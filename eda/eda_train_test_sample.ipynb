{
 "cells": [
  {
   "cell_type": "code",
   "id": "initial_id",
   "metadata": {
    "collapsed": true,
    "ExecuteTime": {
     "end_time": "2024-10-24T18:43:23.927502Z",
     "start_time": "2024-10-24T18:43:18.965916Z"
    }
   },
   "source": [
    "import pandas as pd\n",
    "train = pd.read_csv('../ais_train.csv', sep='|')\n",
    "test = pd.read_csv('../ais_test.csv', sep='|')\n",
    "sample = pd.read_csv('../ais_sample_submission.csv', sep='|')"
   ],
   "outputs": [],
   "execution_count": 1
  },
  {
   "metadata": {
    "ExecuteTime": {
     "end_time": "2024-10-17T06:55:30.687148Z",
     "start_time": "2024-10-17T06:55:30.665288Z"
    }
   },
   "cell_type": "code",
   "source": [
    "display(train.head())\n",
    "train.shape"
   ],
   "id": "e8a4b38252333856",
   "outputs": [
    {
     "data": {
      "text/plain": [
       "                  time    cog   sog  rot  heading  navstat       etaRaw  \\\n",
       "0  2024-01-01 00:00:25  284.0   0.7    0       88        0  01-09 23:00   \n",
       "1  2024-01-01 00:00:36  109.6   0.0   -6      347        1  12-29 20:00   \n",
       "2  2024-01-01 00:01:45  111.0  11.0    0      112        0  01-02 09:00   \n",
       "3  2024-01-01 00:03:11   96.4   0.0    0      142        1  12-31 20:00   \n",
       "4  2024-01-01 00:03:51  214.0  19.7    0      215        0  01-25 12:00   \n",
       "\n",
       "   latitude  longitude                  vesselId                    portId  \n",
       "0 -34.74370  -57.85130  61e9f3a8b937134a3c4bfdf7  61d371c43aeaecc07011a37f  \n",
       "1   8.89440  -79.47939  61e9f3d4b937134a3c4bff1f  634c4de270937fc01c3a7689  \n",
       "2  39.19065  -76.47567  61e9f436b937134a3c4c0131  61d3847bb7b7526e1adf3d19  \n",
       "3 -34.41189  151.02067  61e9f3b4b937134a3c4bfe77  61d36f770a1807568ff9a126  \n",
       "4  35.88379   -5.91636  61e9f41bb937134a3c4c0087  634c4de270937fc01c3a74f3  "
      ],
      "text/html": [
       "<div>\n",
       "<style scoped>\n",
       "    .dataframe tbody tr th:only-of-type {\n",
       "        vertical-align: middle;\n",
       "    }\n",
       "\n",
       "    .dataframe tbody tr th {\n",
       "        vertical-align: top;\n",
       "    }\n",
       "\n",
       "    .dataframe thead th {\n",
       "        text-align: right;\n",
       "    }\n",
       "</style>\n",
       "<table border=\"1\" class=\"dataframe\">\n",
       "  <thead>\n",
       "    <tr style=\"text-align: right;\">\n",
       "      <th></th>\n",
       "      <th>time</th>\n",
       "      <th>cog</th>\n",
       "      <th>sog</th>\n",
       "      <th>rot</th>\n",
       "      <th>heading</th>\n",
       "      <th>navstat</th>\n",
       "      <th>etaRaw</th>\n",
       "      <th>latitude</th>\n",
       "      <th>longitude</th>\n",
       "      <th>vesselId</th>\n",
       "      <th>portId</th>\n",
       "    </tr>\n",
       "  </thead>\n",
       "  <tbody>\n",
       "    <tr>\n",
       "      <th>0</th>\n",
       "      <td>2024-01-01 00:00:25</td>\n",
       "      <td>284.0</td>\n",
       "      <td>0.7</td>\n",
       "      <td>0</td>\n",
       "      <td>88</td>\n",
       "      <td>0</td>\n",
       "      <td>01-09 23:00</td>\n",
       "      <td>-34.74370</td>\n",
       "      <td>-57.85130</td>\n",
       "      <td>61e9f3a8b937134a3c4bfdf7</td>\n",
       "      <td>61d371c43aeaecc07011a37f</td>\n",
       "    </tr>\n",
       "    <tr>\n",
       "      <th>1</th>\n",
       "      <td>2024-01-01 00:00:36</td>\n",
       "      <td>109.6</td>\n",
       "      <td>0.0</td>\n",
       "      <td>-6</td>\n",
       "      <td>347</td>\n",
       "      <td>1</td>\n",
       "      <td>12-29 20:00</td>\n",
       "      <td>8.89440</td>\n",
       "      <td>-79.47939</td>\n",
       "      <td>61e9f3d4b937134a3c4bff1f</td>\n",
       "      <td>634c4de270937fc01c3a7689</td>\n",
       "    </tr>\n",
       "    <tr>\n",
       "      <th>2</th>\n",
       "      <td>2024-01-01 00:01:45</td>\n",
       "      <td>111.0</td>\n",
       "      <td>11.0</td>\n",
       "      <td>0</td>\n",
       "      <td>112</td>\n",
       "      <td>0</td>\n",
       "      <td>01-02 09:00</td>\n",
       "      <td>39.19065</td>\n",
       "      <td>-76.47567</td>\n",
       "      <td>61e9f436b937134a3c4c0131</td>\n",
       "      <td>61d3847bb7b7526e1adf3d19</td>\n",
       "    </tr>\n",
       "    <tr>\n",
       "      <th>3</th>\n",
       "      <td>2024-01-01 00:03:11</td>\n",
       "      <td>96.4</td>\n",
       "      <td>0.0</td>\n",
       "      <td>0</td>\n",
       "      <td>142</td>\n",
       "      <td>1</td>\n",
       "      <td>12-31 20:00</td>\n",
       "      <td>-34.41189</td>\n",
       "      <td>151.02067</td>\n",
       "      <td>61e9f3b4b937134a3c4bfe77</td>\n",
       "      <td>61d36f770a1807568ff9a126</td>\n",
       "    </tr>\n",
       "    <tr>\n",
       "      <th>4</th>\n",
       "      <td>2024-01-01 00:03:51</td>\n",
       "      <td>214.0</td>\n",
       "      <td>19.7</td>\n",
       "      <td>0</td>\n",
       "      <td>215</td>\n",
       "      <td>0</td>\n",
       "      <td>01-25 12:00</td>\n",
       "      <td>35.88379</td>\n",
       "      <td>-5.91636</td>\n",
       "      <td>61e9f41bb937134a3c4c0087</td>\n",
       "      <td>634c4de270937fc01c3a74f3</td>\n",
       "    </tr>\n",
       "  </tbody>\n",
       "</table>\n",
       "</div>"
      ]
     },
     "metadata": {},
     "output_type": "display_data"
    },
    {
     "data": {
      "text/plain": [
       "(1522065, 11)"
      ]
     },
     "execution_count": 3,
     "metadata": {},
     "output_type": "execute_result"
    }
   ],
   "execution_count": 3
  },
  {
   "metadata": {
    "ExecuteTime": {
     "end_time": "2024-10-24T18:43:27.456493Z",
     "start_time": "2024-10-24T18:43:27.439070Z"
    }
   },
   "cell_type": "code",
   "source": "print(train)",
   "id": "4058c106530c806a",
   "outputs": [
    {
     "name": "stdout",
     "output_type": "stream",
     "text": [
      "                        time    cog   sog  rot  heading  navstat       etaRaw  \\\n",
      "0        2024-01-01 00:00:25  284.0   0.7    0       88        0  01-09 23:00   \n",
      "1        2024-01-01 00:00:36  109.6   0.0   -6      347        1  12-29 20:00   \n",
      "2        2024-01-01 00:01:45  111.0  11.0    0      112        0  01-02 09:00   \n",
      "3        2024-01-01 00:03:11   96.4   0.0    0      142        1  12-31 20:00   \n",
      "4        2024-01-01 00:03:51  214.0  19.7    0      215        0  01-25 12:00   \n",
      "...                      ...    ...   ...  ...      ...      ...          ...   \n",
      "1522060  2024-05-07 23:59:07  359.1  13.4    0        1        0  05-08 05:00   \n",
      "1522061  2024-05-07 23:59:08   12.3  17.1    0       13        0  05-10 03:00   \n",
      "1522062  2024-05-07 23:59:08  269.8  14.9   -1      270        0  05-15 23:00   \n",
      "1522063  2024-05-07 23:59:08    8.0  18.7    0        6        0  05-08 12:45   \n",
      "1522064  2024-05-07 23:59:08  336.0  14.3    5      337        0  05-07 23:00   \n",
      "\n",
      "         latitude  longitude                   vesselId  \\\n",
      "0       -34.74370  -57.85130   61e9f3a8b937134a3c4bfdf7   \n",
      "1         8.89440  -79.47939   61e9f3d4b937134a3c4bff1f   \n",
      "2        39.19065  -76.47567   61e9f436b937134a3c4c0131   \n",
      "3       -34.41189  151.02067   61e9f3b4b937134a3c4bfe77   \n",
      "4        35.88379   -5.91636   61e9f41bb937134a3c4c0087   \n",
      "...           ...        ...                        ...   \n",
      "1522060  52.19131   -5.82223  clh6aqawa0002gh0zypfa5dut   \n",
      "1522061  38.96142  -12.00502   61e9f3aeb937134a3c4bfe43   \n",
      "1522062  49.71372   -5.22042   61e9f43db937134a3c4c0169   \n",
      "1522063  38.27895   10.78280   61e9f469b937134a3c4c029b   \n",
      "1522064  38.98635  -75.13275   62080cff66fc0a8e43c6123a   \n",
      "\n",
      "                           portId  \n",
      "0        61d371c43aeaecc07011a37f  \n",
      "1        634c4de270937fc01c3a7689  \n",
      "2        61d3847bb7b7526e1adf3d19  \n",
      "3        61d36f770a1807568ff9a126  \n",
      "4        634c4de270937fc01c3a74f3  \n",
      "...                           ...  \n",
      "1522060  634c4de270937fc01c3a7417  \n",
      "1522061  634c4de270937fc01c3a76a1  \n",
      "1522062  634c4de270937fc01c3a787b  \n",
      "1522063  61d3781293c6feb83e5eb73b  \n",
      "1522064  61d38528b7b7526e1adf3e6f  \n",
      "\n",
      "[1522065 rows x 11 columns]\n"
     ]
    }
   ],
   "execution_count": 2
  },
  {
   "metadata": {
    "ExecuteTime": {
     "end_time": "2024-10-17T06:55:30.789762Z",
     "start_time": "2024-10-17T06:55:30.782762Z"
    }
   },
   "cell_type": "code",
   "source": [
    "display(test.head())\n",
    "test.shape"
   ],
   "id": "da7b5c6ed6a4c96e",
   "outputs": [
    {
     "data": {
      "text/plain": [
       "                     ID,vesselId,time,scaling_factor\n",
       "0  0,61e9f3aeb937134a3c4bfe3d,2024-05-08 00:03:16...\n",
       "1  1,61e9f473b937134a3c4c02df,2024-05-08 00:06:17...\n",
       "2  2,61e9f469b937134a3c4c029b,2024-05-08 00:10:02...\n",
       "3  3,61e9f45bb937134a3c4c0221,2024-05-08 00:10:34...\n",
       "4  4,61e9f38eb937134a3c4bfd8d,2024-05-08 00:12:27..."
      ],
      "text/html": [
       "<div>\n",
       "<style scoped>\n",
       "    .dataframe tbody tr th:only-of-type {\n",
       "        vertical-align: middle;\n",
       "    }\n",
       "\n",
       "    .dataframe tbody tr th {\n",
       "        vertical-align: top;\n",
       "    }\n",
       "\n",
       "    .dataframe thead th {\n",
       "        text-align: right;\n",
       "    }\n",
       "</style>\n",
       "<table border=\"1\" class=\"dataframe\">\n",
       "  <thead>\n",
       "    <tr style=\"text-align: right;\">\n",
       "      <th></th>\n",
       "      <th>ID,vesselId,time,scaling_factor</th>\n",
       "    </tr>\n",
       "  </thead>\n",
       "  <tbody>\n",
       "    <tr>\n",
       "      <th>0</th>\n",
       "      <td>0,61e9f3aeb937134a3c4bfe3d,2024-05-08 00:03:16...</td>\n",
       "    </tr>\n",
       "    <tr>\n",
       "      <th>1</th>\n",
       "      <td>1,61e9f473b937134a3c4c02df,2024-05-08 00:06:17...</td>\n",
       "    </tr>\n",
       "    <tr>\n",
       "      <th>2</th>\n",
       "      <td>2,61e9f469b937134a3c4c029b,2024-05-08 00:10:02...</td>\n",
       "    </tr>\n",
       "    <tr>\n",
       "      <th>3</th>\n",
       "      <td>3,61e9f45bb937134a3c4c0221,2024-05-08 00:10:34...</td>\n",
       "    </tr>\n",
       "    <tr>\n",
       "      <th>4</th>\n",
       "      <td>4,61e9f38eb937134a3c4bfd8d,2024-05-08 00:12:27...</td>\n",
       "    </tr>\n",
       "  </tbody>\n",
       "</table>\n",
       "</div>"
      ]
     },
     "metadata": {},
     "output_type": "display_data"
    },
    {
     "data": {
      "text/plain": [
       "(51739, 1)"
      ]
     },
     "execution_count": 4,
     "metadata": {},
     "output_type": "execute_result"
    }
   ],
   "execution_count": 4
  },
  {
   "metadata": {
    "ExecuteTime": {
     "end_time": "2024-10-17T06:59:03.705366Z",
     "start_time": "2024-10-17T06:59:03.699596Z"
    }
   },
   "cell_type": "code",
   "source": "print(test)",
   "id": "652732835418d39",
   "outputs": [
    {
     "name": "stdout",
     "output_type": "stream",
     "text": [
      "                         ID,vesselId,time,scaling_factor\n",
      "0      0,61e9f3aeb937134a3c4bfe3d,2024-05-08 00:03:16...\n",
      "1      1,61e9f473b937134a3c4c02df,2024-05-08 00:06:17...\n",
      "2      2,61e9f469b937134a3c4c029b,2024-05-08 00:10:02...\n",
      "3      3,61e9f45bb937134a3c4c0221,2024-05-08 00:10:34...\n",
      "4      4,61e9f38eb937134a3c4bfd8d,2024-05-08 00:12:27...\n",
      "...                                                  ...\n",
      "51734  51734,61e9f3a8b937134a3c4bfdf3,2024-05-12 23:5...\n",
      "51735  51735,61e9f3b4b937134a3c4bfe77,2024-05-12 23:5...\n",
      "51736  51736,61e9f46cb937134a3c4c02b7,2024-05-12 23:5...\n",
      "51737  51737,61e9f465b937134a3c4c0269,2024-05-12 23:5...\n",
      "51738  51738,61e9f3adb937134a3c4bfe39,2024-05-12 23:5...\n",
      "\n",
      "[51739 rows x 1 columns]\n"
     ]
    }
   ],
   "execution_count": 7
  },
  {
   "metadata": {
    "ExecuteTime": {
     "end_time": "2024-10-17T06:55:30.923502Z",
     "start_time": "2024-10-17T06:55:30.917804Z"
    }
   },
   "cell_type": "code",
   "source": [
    "display(sample.head())\n",
    "print(sample.shape)"
   ],
   "id": "7f1ef5734d6181e",
   "outputs": [
    {
     "data": {
      "text/plain": [
       "  ID,longitude_predicted,latitude_predicted\n",
       "0                                 0,0.0,0.0\n",
       "1                                 1,0.0,0.0\n",
       "2                                 2,0.0,0.0\n",
       "3                                 3,0.0,0.0\n",
       "4                                 4,0.0,0.0"
      ],
      "text/html": [
       "<div>\n",
       "<style scoped>\n",
       "    .dataframe tbody tr th:only-of-type {\n",
       "        vertical-align: middle;\n",
       "    }\n",
       "\n",
       "    .dataframe tbody tr th {\n",
       "        vertical-align: top;\n",
       "    }\n",
       "\n",
       "    .dataframe thead th {\n",
       "        text-align: right;\n",
       "    }\n",
       "</style>\n",
       "<table border=\"1\" class=\"dataframe\">\n",
       "  <thead>\n",
       "    <tr style=\"text-align: right;\">\n",
       "      <th></th>\n",
       "      <th>ID,longitude_predicted,latitude_predicted</th>\n",
       "    </tr>\n",
       "  </thead>\n",
       "  <tbody>\n",
       "    <tr>\n",
       "      <th>0</th>\n",
       "      <td>0,0.0,0.0</td>\n",
       "    </tr>\n",
       "    <tr>\n",
       "      <th>1</th>\n",
       "      <td>1,0.0,0.0</td>\n",
       "    </tr>\n",
       "    <tr>\n",
       "      <th>2</th>\n",
       "      <td>2,0.0,0.0</td>\n",
       "    </tr>\n",
       "    <tr>\n",
       "      <th>3</th>\n",
       "      <td>3,0.0,0.0</td>\n",
       "    </tr>\n",
       "    <tr>\n",
       "      <th>4</th>\n",
       "      <td>4,0.0,0.0</td>\n",
       "    </tr>\n",
       "  </tbody>\n",
       "</table>\n",
       "</div>"
      ]
     },
     "metadata": {},
     "output_type": "display_data"
    },
    {
     "name": "stdout",
     "output_type": "stream",
     "text": [
      "(51739, 1)\n"
     ]
    }
   ],
   "execution_count": 5
  },
  {
   "metadata": {
    "ExecuteTime": {
     "end_time": "2024-10-17T06:55:31.097670Z",
     "start_time": "2024-10-17T06:55:31.092518Z"
    }
   },
   "cell_type": "code",
   "source": "print(sample)",
   "id": "f02e96af26552668",
   "outputs": [
    {
     "name": "stdout",
     "output_type": "stream",
     "text": [
      "      ID,longitude_predicted,latitude_predicted\n",
      "0                                     0,0.0,0.0\n",
      "1                                     1,0.0,0.0\n",
      "2                                     2,0.0,0.0\n",
      "3                                     3,0.0,0.0\n",
      "4                                     4,0.0,0.0\n",
      "...                                         ...\n",
      "51734                             51734,0.0,0.0\n",
      "51735                             51735,0.0,0.0\n",
      "51736                             51736,0.0,0.0\n",
      "51737                             51737,0.0,0.0\n",
      "51738                             51738,0.0,0.0\n",
      "\n",
      "[51739 rows x 1 columns]\n"
     ]
    }
   ],
   "execution_count": 6
  },
  {
   "metadata": {
    "ExecuteTime": {
     "end_time": "2024-10-17T06:55:31.326837Z",
     "start_time": "2024-10-17T06:55:31.324062Z"
    }
   },
   "cell_type": "code",
   "source": "",
   "id": "61598ece130d35be",
   "outputs": [],
   "execution_count": null
  }
 ],
 "metadata": {
  "kernelspec": {
   "display_name": "Python 3",
   "language": "python",
   "name": "python3"
  },
  "language_info": {
   "codemirror_mode": {
    "name": "ipython",
    "version": 2
   },
   "file_extension": ".py",
   "mimetype": "text/x-python",
   "name": "python",
   "nbconvert_exporter": "python",
   "pygments_lexer": "ipython2",
   "version": "2.7.6"
  }
 },
 "nbformat": 4,
 "nbformat_minor": 5
}
