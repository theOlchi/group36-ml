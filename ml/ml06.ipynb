{
 "cells": [
  {
   "metadata": {
    "ExecuteTime": {
     "end_time": "2024-10-20T14:33:06.835854Z",
     "start_time": "2024-10-20T14:33:03.609233Z"
    }
   },
   "cell_type": "code",
   "source": [
    "import pandas as pd\n",
    "import numpy as np\n",
    "from sklearn.model_selection import train_test_split\n",
    "from sklearn.preprocessing import StandardScaler\n",
    "import xgboost as xgb\n",
    "from sklearn.metrics import mean_squared_error, r2_score\n",
    "from datetime import datetime\n",
    "\n",
    "# Load datasets\n",
    "vessel_data = pd.read_csv('../ais_train.csv', sep='|')\n",
    "schedule_data = pd.read_csv('../schedules_to_may_2024.csv', sep='|')\n",
    "ports_data = pd.read_csv('../ports.csv', sep='|')\n",
    "vessels_info = pd.read_csv('../vessels.csv', sep='|')\n",
    "\n",
    "# Step 1: Convert 'time' column to datetime in vessel_data\n",
    "vessel_data['time'] = pd.to_datetime(vessel_data['time'])\n",
    "\n",
    "# Step 2: Get the latest vessel data for each vessel (optional step)\n",
    "latest_vessel_data = vessel_data.loc[vessel_data.groupby('vesselId')['time'].idxmax()]\n",
    "\n",
    "# Feature extraction: Create time-based features (hour, day_of_week, month) from the 'time' column\n",
    "vessel_data['hour'] = vessel_data['time'].dt.hour\n",
    "vessel_data['day_of_week'] = vessel_data['time'].dt.dayofweek\n",
    "vessel_data['month'] = vessel_data['time'].dt.month"
   ],
   "id": "ef9b99139afc210b",
   "outputs": [],
   "execution_count": 5
  },
  {
   "metadata": {
    "ExecuteTime": {
     "end_time": "2024-10-20T14:33:07.656067Z",
     "start_time": "2024-10-20T14:33:07.636603Z"
    }
   },
   "cell_type": "code",
   "source": [
    "from geopy.distance import geodesic\n",
    "\n",
    "# Calculate sailing velocity (distance between positions divided by time difference)\n",
    "vessel_data['prev_latitude'] = vessel_data['latitude'].shift(1)\n",
    "vessel_data['prev_longitude'] = vessel_data['longitude'].shift(1)\n",
    "vessel_data['prev_time'] = vessel_data['time'].shift(1)"
   ],
   "id": "c66dfc1e0b8dbeb0",
   "outputs": [],
   "execution_count": 6
  },
  {
   "metadata": {
    "ExecuteTime": {
     "end_time": "2024-10-20T14:33:09.362783Z",
     "start_time": "2024-10-20T14:33:09.313141Z"
    }
   },
   "cell_type": "code",
   "source": [
    "# Compute time difference in hours\n",
    "vessel_data['time_diff'] = (vessel_data['time'] - vessel_data['prev_time']).dt.total_seconds() / 3600"
   ],
   "id": "9f27c3f0484c1adf",
   "outputs": [],
   "execution_count": 7
  },
  {
   "metadata": {
    "ExecuteTime": {
     "end_time": "2024-10-20T14:33:10.436675Z",
     "start_time": "2024-10-20T14:33:10.426102Z"
    }
   },
   "cell_type": "code",
   "source": "print(vessel_data)",
   "id": "f3272afcf6d2250f",
   "outputs": [
    {
     "name": "stdout",
     "output_type": "stream",
     "text": [
      "                       time    cog   sog  rot  heading  navstat       etaRaw  \\\n",
      "0       2024-01-01 00:00:25  284.0   0.7    0       88        0  01-09 23:00   \n",
      "1       2024-01-01 00:00:36  109.6   0.0   -6      347        1  12-29 20:00   \n",
      "2       2024-01-01 00:01:45  111.0  11.0    0      112        0  01-02 09:00   \n",
      "3       2024-01-01 00:03:11   96.4   0.0    0      142        1  12-31 20:00   \n",
      "4       2024-01-01 00:03:51  214.0  19.7    0      215        0  01-25 12:00   \n",
      "...                     ...    ...   ...  ...      ...      ...          ...   \n",
      "1522060 2024-05-07 23:59:07  359.1  13.4    0        1        0  05-08 05:00   \n",
      "1522061 2024-05-07 23:59:08   12.3  17.1    0       13        0  05-10 03:00   \n",
      "1522062 2024-05-07 23:59:08  269.8  14.9   -1      270        0  05-15 23:00   \n",
      "1522063 2024-05-07 23:59:08    8.0  18.7    0        6        0  05-08 12:45   \n",
      "1522064 2024-05-07 23:59:08  336.0  14.3    5      337        0  05-07 23:00   \n",
      "\n",
      "         latitude  longitude                   vesselId  \\\n",
      "0       -34.74370  -57.85130   61e9f3a8b937134a3c4bfdf7   \n",
      "1         8.89440  -79.47939   61e9f3d4b937134a3c4bff1f   \n",
      "2        39.19065  -76.47567   61e9f436b937134a3c4c0131   \n",
      "3       -34.41189  151.02067   61e9f3b4b937134a3c4bfe77   \n",
      "4        35.88379   -5.91636   61e9f41bb937134a3c4c0087   \n",
      "...           ...        ...                        ...   \n",
      "1522060  52.19131   -5.82223  clh6aqawa0002gh0zypfa5dut   \n",
      "1522061  38.96142  -12.00502   61e9f3aeb937134a3c4bfe43   \n",
      "1522062  49.71372   -5.22042   61e9f43db937134a3c4c0169   \n",
      "1522063  38.27895   10.78280   61e9f469b937134a3c4c029b   \n",
      "1522064  38.98635  -75.13275   62080cff66fc0a8e43c6123a   \n",
      "\n",
      "                           portId  hour  day_of_week  month  prev_latitude  \\\n",
      "0        61d371c43aeaecc07011a37f     0            0      1            NaN   \n",
      "1        634c4de270937fc01c3a7689     0            0      1      -34.74370   \n",
      "2        61d3847bb7b7526e1adf3d19     0            0      1        8.89440   \n",
      "3        61d36f770a1807568ff9a126     0            0      1       39.19065   \n",
      "4        634c4de270937fc01c3a74f3     0            0      1      -34.41189   \n",
      "...                           ...   ...          ...    ...            ...   \n",
      "1522060  634c4de270937fc01c3a7417    23            1      5       51.37640   \n",
      "1522061  634c4de270937fc01c3a76a1    23            1      5       52.19131   \n",
      "1522062  634c4de270937fc01c3a787b    23            1      5       38.96142   \n",
      "1522063  61d3781293c6feb83e5eb73b    23            1      5       49.71372   \n",
      "1522064  61d38528b7b7526e1adf3e6f    23            1      5       38.27895   \n",
      "\n",
      "         prev_longitude           prev_time  time_diff  \n",
      "0                   NaN                 NaT        NaN  \n",
      "1             -57.85130 2024-01-01 00:00:25   0.003056  \n",
      "2             -79.47939 2024-01-01 00:00:36   0.019167  \n",
      "3             -76.47567 2024-01-01 00:01:45   0.023889  \n",
      "4             151.02067 2024-01-01 00:03:11   0.011111  \n",
      "...                 ...                 ...        ...  \n",
      "1522060         4.05389 2024-05-07 23:59:07   0.000000  \n",
      "1522061        -5.82223 2024-05-07 23:59:07   0.000278  \n",
      "1522062       -12.00502 2024-05-07 23:59:08   0.000000  \n",
      "1522063        -5.22042 2024-05-07 23:59:08   0.000000  \n",
      "1522064        10.78280 2024-05-07 23:59:08   0.000000  \n",
      "\n",
      "[1522065 rows x 18 columns]\n"
     ]
    }
   ],
   "execution_count": 8
  },
  {
   "metadata": {
    "ExecuteTime": {
     "end_time": "2024-10-20T14:32:50.197134Z",
     "start_time": "2024-10-20T14:30:45.553421Z"
    }
   },
   "cell_type": "code",
   "source": [
    "# Calculate the distance traveled (in kilometers)\n",
    "# vessel_data['distance_traveled'] = vessel_data.apply(lambda row: geodesic(\n",
    "#     (row['prev_latitude'], row['prev_longitude']), (row['latitude'], row['longitude'])\n",
    "# ).kilometers if pd.notnull(row['prev_latitude']) else np.nan, axis=1)"
   ],
   "id": "bce35cb6c5e327aa",
   "outputs": [
    {
     "ename": "KeyboardInterrupt",
     "evalue": "",
     "output_type": "error",
     "traceback": [
      "\u001B[1;31m---------------------------------------------------------------------------\u001B[0m",
      "\u001B[1;31mKeyboardInterrupt\u001B[0m                         Traceback (most recent call last)",
      "Cell \u001B[1;32mIn[4], line 2\u001B[0m\n\u001B[0;32m      1\u001B[0m \u001B[38;5;66;03m# Calculate the distance traveled (in kilometers)\u001B[39;00m\n\u001B[1;32m----> 2\u001B[0m vessel_data[\u001B[38;5;124m'\u001B[39m\u001B[38;5;124mdistance_traveled\u001B[39m\u001B[38;5;124m'\u001B[39m] \u001B[38;5;241m=\u001B[39m vessel_data\u001B[38;5;241m.\u001B[39mapply(\u001B[38;5;28;01mlambda\u001B[39;00m row: geodesic(\n\u001B[0;32m      3\u001B[0m     (row[\u001B[38;5;124m'\u001B[39m\u001B[38;5;124mprev_latitude\u001B[39m\u001B[38;5;124m'\u001B[39m], row[\u001B[38;5;124m'\u001B[39m\u001B[38;5;124mprev_longitude\u001B[39m\u001B[38;5;124m'\u001B[39m]), (row[\u001B[38;5;124m'\u001B[39m\u001B[38;5;124mlatitude\u001B[39m\u001B[38;5;124m'\u001B[39m], row[\u001B[38;5;124m'\u001B[39m\u001B[38;5;124mlongitude\u001B[39m\u001B[38;5;124m'\u001B[39m])\n\u001B[0;32m      4\u001B[0m )\u001B[38;5;241m.\u001B[39mkilometers \u001B[38;5;28;01mif\u001B[39;00m pd\u001B[38;5;241m.\u001B[39mnotnull(row[\u001B[38;5;124m'\u001B[39m\u001B[38;5;124mprev_latitude\u001B[39m\u001B[38;5;124m'\u001B[39m]) \u001B[38;5;28;01melse\u001B[39;00m np\u001B[38;5;241m.\u001B[39mnan, axis\u001B[38;5;241m=\u001B[39m\u001B[38;5;241m1\u001B[39m)\n",
      "File \u001B[1;32m~\\AppData\\Roaming\\Python\\Python311\\site-packages\\pandas\\core\\frame.py:10034\u001B[0m, in \u001B[0;36mDataFrame.apply\u001B[1;34m(self, func, axis, raw, result_type, args, by_row, **kwargs)\u001B[0m\n\u001B[0;32m  10022\u001B[0m \u001B[38;5;28;01mfrom\u001B[39;00m \u001B[38;5;21;01mpandas\u001B[39;00m\u001B[38;5;21;01m.\u001B[39;00m\u001B[38;5;21;01mcore\u001B[39;00m\u001B[38;5;21;01m.\u001B[39;00m\u001B[38;5;21;01mapply\u001B[39;00m \u001B[38;5;28;01mimport\u001B[39;00m frame_apply\n\u001B[0;32m  10024\u001B[0m op \u001B[38;5;241m=\u001B[39m frame_apply(\n\u001B[0;32m  10025\u001B[0m     \u001B[38;5;28mself\u001B[39m,\n\u001B[0;32m  10026\u001B[0m     func\u001B[38;5;241m=\u001B[39mfunc,\n\u001B[1;32m   (...)\u001B[0m\n\u001B[0;32m  10032\u001B[0m     kwargs\u001B[38;5;241m=\u001B[39mkwargs,\n\u001B[0;32m  10033\u001B[0m )\n\u001B[1;32m> 10034\u001B[0m \u001B[38;5;28;01mreturn\u001B[39;00m op\u001B[38;5;241m.\u001B[39mapply()\u001B[38;5;241m.\u001B[39m__finalize__(\u001B[38;5;28mself\u001B[39m, method\u001B[38;5;241m=\u001B[39m\u001B[38;5;124m\"\u001B[39m\u001B[38;5;124mapply\u001B[39m\u001B[38;5;124m\"\u001B[39m)\n",
      "File \u001B[1;32m~\\AppData\\Roaming\\Python\\Python311\\site-packages\\pandas\\core\\apply.py:837\u001B[0m, in \u001B[0;36mFrameApply.apply\u001B[1;34m(self)\u001B[0m\n\u001B[0;32m    834\u001B[0m \u001B[38;5;28;01melif\u001B[39;00m \u001B[38;5;28mself\u001B[39m\u001B[38;5;241m.\u001B[39mraw:\n\u001B[0;32m    835\u001B[0m     \u001B[38;5;28;01mreturn\u001B[39;00m \u001B[38;5;28mself\u001B[39m\u001B[38;5;241m.\u001B[39mapply_raw()\n\u001B[1;32m--> 837\u001B[0m \u001B[38;5;28;01mreturn\u001B[39;00m \u001B[38;5;28mself\u001B[39m\u001B[38;5;241m.\u001B[39mapply_standard()\n",
      "File \u001B[1;32m~\\AppData\\Roaming\\Python\\Python311\\site-packages\\pandas\\core\\apply.py:963\u001B[0m, in \u001B[0;36mFrameApply.apply_standard\u001B[1;34m(self)\u001B[0m\n\u001B[0;32m    962\u001B[0m \u001B[38;5;28;01mdef\u001B[39;00m \u001B[38;5;21mapply_standard\u001B[39m(\u001B[38;5;28mself\u001B[39m):\n\u001B[1;32m--> 963\u001B[0m     results, res_index \u001B[38;5;241m=\u001B[39m \u001B[38;5;28mself\u001B[39m\u001B[38;5;241m.\u001B[39mapply_series_generator()\n\u001B[0;32m    965\u001B[0m     \u001B[38;5;66;03m# wrap results\u001B[39;00m\n\u001B[0;32m    966\u001B[0m     \u001B[38;5;28;01mreturn\u001B[39;00m \u001B[38;5;28mself\u001B[39m\u001B[38;5;241m.\u001B[39mwrap_results(results, res_index)\n",
      "File \u001B[1;32m~\\AppData\\Roaming\\Python\\Python311\\site-packages\\pandas\\core\\apply.py:979\u001B[0m, in \u001B[0;36mFrameApply.apply_series_generator\u001B[1;34m(self)\u001B[0m\n\u001B[0;32m    976\u001B[0m \u001B[38;5;28;01mwith\u001B[39;00m option_context(\u001B[38;5;124m\"\u001B[39m\u001B[38;5;124mmode.chained_assignment\u001B[39m\u001B[38;5;124m\"\u001B[39m, \u001B[38;5;28;01mNone\u001B[39;00m):\n\u001B[0;32m    977\u001B[0m     \u001B[38;5;28;01mfor\u001B[39;00m i, v \u001B[38;5;129;01min\u001B[39;00m \u001B[38;5;28menumerate\u001B[39m(series_gen):\n\u001B[0;32m    978\u001B[0m         \u001B[38;5;66;03m# ignore SettingWithCopy here in case the user mutates\u001B[39;00m\n\u001B[1;32m--> 979\u001B[0m         results[i] \u001B[38;5;241m=\u001B[39m \u001B[38;5;28mself\u001B[39m\u001B[38;5;241m.\u001B[39mfunc(v, \u001B[38;5;241m*\u001B[39m\u001B[38;5;28mself\u001B[39m\u001B[38;5;241m.\u001B[39margs, \u001B[38;5;241m*\u001B[39m\u001B[38;5;241m*\u001B[39m\u001B[38;5;28mself\u001B[39m\u001B[38;5;241m.\u001B[39mkwargs)\n\u001B[0;32m    980\u001B[0m         \u001B[38;5;28;01mif\u001B[39;00m \u001B[38;5;28misinstance\u001B[39m(results[i], ABCSeries):\n\u001B[0;32m    981\u001B[0m             \u001B[38;5;66;03m# If we have a view on v, we need to make a copy because\u001B[39;00m\n\u001B[0;32m    982\u001B[0m             \u001B[38;5;66;03m#  series_generator will swap out the underlying data\u001B[39;00m\n\u001B[0;32m    983\u001B[0m             results[i] \u001B[38;5;241m=\u001B[39m results[i]\u001B[38;5;241m.\u001B[39mcopy(deep\u001B[38;5;241m=\u001B[39m\u001B[38;5;28;01mFalse\u001B[39;00m)\n",
      "Cell \u001B[1;32mIn[4], line 2\u001B[0m, in \u001B[0;36m<lambda>\u001B[1;34m(row)\u001B[0m\n\u001B[0;32m      1\u001B[0m \u001B[38;5;66;03m# Calculate the distance traveled (in kilometers)\u001B[39;00m\n\u001B[1;32m----> 2\u001B[0m vessel_data[\u001B[38;5;124m'\u001B[39m\u001B[38;5;124mdistance_traveled\u001B[39m\u001B[38;5;124m'\u001B[39m] \u001B[38;5;241m=\u001B[39m vessel_data\u001B[38;5;241m.\u001B[39mapply(\u001B[38;5;28;01mlambda\u001B[39;00m row: geodesic(\n\u001B[0;32m      3\u001B[0m     (row[\u001B[38;5;124m'\u001B[39m\u001B[38;5;124mprev_latitude\u001B[39m\u001B[38;5;124m'\u001B[39m], row[\u001B[38;5;124m'\u001B[39m\u001B[38;5;124mprev_longitude\u001B[39m\u001B[38;5;124m'\u001B[39m]), (row[\u001B[38;5;124m'\u001B[39m\u001B[38;5;124mlatitude\u001B[39m\u001B[38;5;124m'\u001B[39m], row[\u001B[38;5;124m'\u001B[39m\u001B[38;5;124mlongitude\u001B[39m\u001B[38;5;124m'\u001B[39m])\n\u001B[0;32m      4\u001B[0m )\u001B[38;5;241m.\u001B[39mkilometers \u001B[38;5;28;01mif\u001B[39;00m pd\u001B[38;5;241m.\u001B[39mnotnull(row[\u001B[38;5;124m'\u001B[39m\u001B[38;5;124mprev_latitude\u001B[39m\u001B[38;5;124m'\u001B[39m]) \u001B[38;5;28;01melse\u001B[39;00m np\u001B[38;5;241m.\u001B[39mnan, axis\u001B[38;5;241m=\u001B[39m\u001B[38;5;241m1\u001B[39m)\n",
      "File \u001B[1;32m~\\anaconda3\\Lib\\site-packages\\geopy\\distance.py:540\u001B[0m, in \u001B[0;36mgeodesic.__init__\u001B[1;34m(self, *args, **kwargs)\u001B[0m\n\u001B[0;32m    538\u001B[0m \u001B[38;5;28mself\u001B[39m\u001B[38;5;241m.\u001B[39mset_ellipsoid(kwargs\u001B[38;5;241m.\u001B[39mpop(\u001B[38;5;124m'\u001B[39m\u001B[38;5;124mellipsoid\u001B[39m\u001B[38;5;124m'\u001B[39m, \u001B[38;5;124m'\u001B[39m\u001B[38;5;124mWGS-84\u001B[39m\u001B[38;5;124m'\u001B[39m))\n\u001B[0;32m    539\u001B[0m major, minor, f \u001B[38;5;241m=\u001B[39m \u001B[38;5;28mself\u001B[39m\u001B[38;5;241m.\u001B[39mELLIPSOID\n\u001B[1;32m--> 540\u001B[0m \u001B[38;5;28msuper\u001B[39m()\u001B[38;5;241m.\u001B[39m\u001B[38;5;21m__init__\u001B[39m(\u001B[38;5;241m*\u001B[39margs, \u001B[38;5;241m*\u001B[39m\u001B[38;5;241m*\u001B[39mkwargs)\n",
      "File \u001B[1;32m~\\anaconda3\\Lib\\site-packages\\geopy\\distance.py:276\u001B[0m, in \u001B[0;36mDistance.__init__\u001B[1;34m(self, *args, **kwargs)\u001B[0m\n\u001B[0;32m    274\u001B[0m \u001B[38;5;28;01melif\u001B[39;00m \u001B[38;5;28mlen\u001B[39m(args) \u001B[38;5;241m>\u001B[39m \u001B[38;5;241m1\u001B[39m:\n\u001B[0;32m    275\u001B[0m     \u001B[38;5;28;01mfor\u001B[39;00m a, b \u001B[38;5;129;01min\u001B[39;00m util\u001B[38;5;241m.\u001B[39mpairwise(args):\n\u001B[1;32m--> 276\u001B[0m         kilometers \u001B[38;5;241m+\u001B[39m\u001B[38;5;241m=\u001B[39m \u001B[38;5;28mself\u001B[39m\u001B[38;5;241m.\u001B[39mmeasure(a, b)\n\u001B[0;32m    278\u001B[0m kilometers \u001B[38;5;241m+\u001B[39m\u001B[38;5;241m=\u001B[39m units\u001B[38;5;241m.\u001B[39mkilometers(\u001B[38;5;241m*\u001B[39m\u001B[38;5;241m*\u001B[39mkwargs)\n\u001B[0;32m    279\u001B[0m \u001B[38;5;28mself\u001B[39m\u001B[38;5;241m.\u001B[39m__kilometers \u001B[38;5;241m=\u001B[39m kilometers\n",
      "File \u001B[1;32m~\\anaconda3\\Lib\\site-packages\\geopy\\distance.py:564\u001B[0m, in \u001B[0;36mgeodesic.measure\u001B[1;34m(self, a, b)\u001B[0m\n\u001B[0;32m    559\u001B[0m lat2, lon2 \u001B[38;5;241m=\u001B[39m b\u001B[38;5;241m.\u001B[39mlatitude, b\u001B[38;5;241m.\u001B[39mlongitude\n\u001B[0;32m    561\u001B[0m \u001B[38;5;28;01mif\u001B[39;00m \u001B[38;5;129;01mnot\u001B[39;00m (\u001B[38;5;28misinstance\u001B[39m(\u001B[38;5;28mself\u001B[39m\u001B[38;5;241m.\u001B[39mgeod, Geodesic) \u001B[38;5;129;01mand\u001B[39;00m\n\u001B[0;32m    562\u001B[0m         \u001B[38;5;28mself\u001B[39m\u001B[38;5;241m.\u001B[39mgeod\u001B[38;5;241m.\u001B[39ma \u001B[38;5;241m==\u001B[39m \u001B[38;5;28mself\u001B[39m\u001B[38;5;241m.\u001B[39mELLIPSOID[\u001B[38;5;241m0\u001B[39m] \u001B[38;5;129;01mand\u001B[39;00m\n\u001B[0;32m    563\u001B[0m         \u001B[38;5;28mself\u001B[39m\u001B[38;5;241m.\u001B[39mgeod\u001B[38;5;241m.\u001B[39mf \u001B[38;5;241m==\u001B[39m \u001B[38;5;28mself\u001B[39m\u001B[38;5;241m.\u001B[39mELLIPSOID[\u001B[38;5;241m2\u001B[39m]):\n\u001B[1;32m--> 564\u001B[0m     \u001B[38;5;28mself\u001B[39m\u001B[38;5;241m.\u001B[39mgeod \u001B[38;5;241m=\u001B[39m Geodesic(\u001B[38;5;28mself\u001B[39m\u001B[38;5;241m.\u001B[39mELLIPSOID[\u001B[38;5;241m0\u001B[39m], \u001B[38;5;28mself\u001B[39m\u001B[38;5;241m.\u001B[39mELLIPSOID[\u001B[38;5;241m2\u001B[39m])\n\u001B[0;32m    566\u001B[0m s12 \u001B[38;5;241m=\u001B[39m \u001B[38;5;28mself\u001B[39m\u001B[38;5;241m.\u001B[39mgeod\u001B[38;5;241m.\u001B[39mInverse(lat1, lon1, lat2, lon2,\n\u001B[0;32m    567\u001B[0m                         Geodesic\u001B[38;5;241m.\u001B[39mDISTANCE)[\u001B[38;5;124m'\u001B[39m\u001B[38;5;124ms12\u001B[39m\u001B[38;5;124m'\u001B[39m]\n\u001B[0;32m    569\u001B[0m \u001B[38;5;28;01mreturn\u001B[39;00m s12\n",
      "File \u001B[1;32m~\\anaconda3\\Lib\\site-packages\\geographiclib\\geodesic.py:320\u001B[0m, in \u001B[0;36mGeodesic.__init__\u001B[1;34m(self, a, f)\u001B[0m\n\u001B[0;32m    318\u001B[0m \u001B[38;5;28mself\u001B[39m\u001B[38;5;241m.\u001B[39m_C4x \u001B[38;5;241m=\u001B[39m \u001B[38;5;28mlist\u001B[39m(\u001B[38;5;28mrange\u001B[39m(Geodesic\u001B[38;5;241m.\u001B[39mnC4x_))\n\u001B[0;32m    319\u001B[0m \u001B[38;5;28mself\u001B[39m\u001B[38;5;241m.\u001B[39m_A3coeff()\n\u001B[1;32m--> 320\u001B[0m \u001B[38;5;28mself\u001B[39m\u001B[38;5;241m.\u001B[39m_C3coeff()\n\u001B[0;32m    321\u001B[0m \u001B[38;5;28mself\u001B[39m\u001B[38;5;241m.\u001B[39m_C4coeff()\n",
      "File \u001B[1;32m~\\anaconda3\\Lib\\site-packages\\geographiclib\\geodesic.py:363\u001B[0m, in \u001B[0;36mGeodesic._C3coeff\u001B[1;34m(self)\u001B[0m\n\u001B[0;32m    361\u001B[0m \u001B[38;5;28;01mfor\u001B[39;00m j \u001B[38;5;129;01min\u001B[39;00m \u001B[38;5;28mrange\u001B[39m(Geodesic\u001B[38;5;241m.\u001B[39mnC3_ \u001B[38;5;241m-\u001B[39m \u001B[38;5;241m1\u001B[39m, l \u001B[38;5;241m-\u001B[39m \u001B[38;5;241m1\u001B[39m, \u001B[38;5;241m-\u001B[39m\u001B[38;5;241m1\u001B[39m): \u001B[38;5;66;03m# coeff of eps^j\u001B[39;00m\n\u001B[0;32m    362\u001B[0m   m \u001B[38;5;241m=\u001B[39m \u001B[38;5;28mmin\u001B[39m(Geodesic\u001B[38;5;241m.\u001B[39mnC3_ \u001B[38;5;241m-\u001B[39m j \u001B[38;5;241m-\u001B[39m \u001B[38;5;241m1\u001B[39m, j) \u001B[38;5;66;03m# order of polynomial in n\u001B[39;00m\n\u001B[1;32m--> 363\u001B[0m   \u001B[38;5;28mself\u001B[39m\u001B[38;5;241m.\u001B[39m_C3x[k] \u001B[38;5;241m=\u001B[39m Math\u001B[38;5;241m.\u001B[39mpolyval(m, coeff, o, \u001B[38;5;28mself\u001B[39m\u001B[38;5;241m.\u001B[39m_n) \u001B[38;5;241m/\u001B[39m coeff[o \u001B[38;5;241m+\u001B[39m m \u001B[38;5;241m+\u001B[39m \u001B[38;5;241m1\u001B[39m]\n\u001B[0;32m    364\u001B[0m   k \u001B[38;5;241m+\u001B[39m\u001B[38;5;241m=\u001B[39m \u001B[38;5;241m1\u001B[39m\n\u001B[0;32m    365\u001B[0m   o \u001B[38;5;241m+\u001B[39m\u001B[38;5;241m=\u001B[39m m \u001B[38;5;241m+\u001B[39m \u001B[38;5;241m2\u001B[39m\n",
      "File \u001B[1;32m~\\anaconda3\\Lib\\site-packages\\geographiclib\\geomath.py:63\u001B[0m, in \u001B[0;36mMath.polyval\u001B[1;34m(N, p, s, x)\u001B[0m\n\u001B[0;32m     59\u001B[0m   \u001B[38;5;66;03m# u + v =       s      + t\u001B[39;00m\n\u001B[0;32m     60\u001B[0m   \u001B[38;5;66;03m#       = round(u + v) + t\u001B[39;00m\n\u001B[0;32m     61\u001B[0m   \u001B[38;5;28;01mreturn\u001B[39;00m s, t\n\u001B[1;32m---> 63\u001B[0m \u001B[38;5;129m@staticmethod\u001B[39m\n\u001B[0;32m     64\u001B[0m \u001B[38;5;28;01mdef\u001B[39;00m \u001B[38;5;21mpolyval\u001B[39m(N, p, s, x):\n\u001B[0;32m     65\u001B[0m \u001B[38;5;250m  \u001B[39m\u001B[38;5;124;03m\"\"\"Evaluate a polynomial.\"\"\"\u001B[39;00m\n\u001B[0;32m     67\u001B[0m   y \u001B[38;5;241m=\u001B[39m \u001B[38;5;28mfloat\u001B[39m(\u001B[38;5;241m0\u001B[39m \u001B[38;5;28;01mif\u001B[39;00m N \u001B[38;5;241m<\u001B[39m \u001B[38;5;241m0\u001B[39m \u001B[38;5;28;01melse\u001B[39;00m p[s]) \u001B[38;5;66;03m# make sure the returned value is a float\u001B[39;00m\n",
      "\u001B[1;31mKeyboardInterrupt\u001B[0m: "
     ]
    }
   ],
   "execution_count": 4
  },
  {
   "metadata": {
    "ExecuteTime": {
     "end_time": "2024-10-20T14:33:36.913477Z",
     "start_time": "2024-10-20T14:33:36.229289Z"
    }
   },
   "cell_type": "code",
   "source": [
    "# Calculate sailing velocity (km/h)\n",
    "# vessel_data['sailing_velocity'] = vessel_data['distance_traveled'] / vessel_data['time_diff']\n",
    "\n",
    "# Merge vessel info into the main dataset\n",
    "vessel_data = pd.merge(vessel_data, vessels_info[['vesselId', 'CEU', 'length', 'maxSpeed']], on='vesselId', how='left')\n",
    "\n",
    "# Merge ports data to get port locations\n",
    "vessel_data = pd.merge(vessel_data, ports_data[['portId', 'latitude', 'longitude']], left_on='portId', right_on='portId', how='left')"
   ],
   "id": "37f60bce30cb9b08",
   "outputs": [],
   "execution_count": 9
  },
  {
   "metadata": {},
   "cell_type": "code",
   "outputs": [],
   "execution_count": null,
   "source": "",
   "id": "3049134c209a0cc5"
  },
  {
   "metadata": {
    "ExecuteTime": {
     "end_time": "2024-10-20T14:32:50.289778400Z",
     "start_time": "2024-10-20T14:29:59.409496Z"
    }
   },
   "cell_type": "code",
   "source": [
    "# Calculate the distance to the nearest port (or the destination port)\n",
    "# vessel_data['distance_to_port'] = vessel_data.apply(lambda row: geodesic(\n",
    "#     (row['latitude'], row['longitude']), (row['latitude_y'], row['longitude_y'])\n",
    "# ).kilometers if pd.notnull(row['latitude_y']) else np.nan, axis=1)\n",
    "\n",
    "# Merge schedule data to include planned arrival information\n",
    "# vessel_data = pd.merge(vessel_data, schedule_data[['vesselId', 'arrivalDate']], on='vesselId', how='left')\n",
    "\n",
    "# Create time until scheduled arrival feature\n",
    "vessel_data['time_until_arrival'] = (vessel_data['arrivalDate'] - vessel_data['time']).dt.total_seconds() / 3600  # Time in hours"
   ],
   "id": "fb43fe118fa41340",
   "outputs": [
    {
     "ename": "KeyError",
     "evalue": "'latitude'",
     "output_type": "error",
     "traceback": [
      "\u001B[1;31m---------------------------------------------------------------------------\u001B[0m",
      "\u001B[1;31mKeyError\u001B[0m                                  Traceback (most recent call last)",
      "File \u001B[1;32m~\\AppData\\Roaming\\Python\\Python311\\site-packages\\pandas\\core\\indexes\\base.py:3790\u001B[0m, in \u001B[0;36mIndex.get_loc\u001B[1;34m(self, key)\u001B[0m\n\u001B[0;32m   3789\u001B[0m \u001B[38;5;28;01mtry\u001B[39;00m:\n\u001B[1;32m-> 3790\u001B[0m     \u001B[38;5;28;01mreturn\u001B[39;00m \u001B[38;5;28mself\u001B[39m\u001B[38;5;241m.\u001B[39m_engine\u001B[38;5;241m.\u001B[39mget_loc(casted_key)\n\u001B[0;32m   3791\u001B[0m \u001B[38;5;28;01mexcept\u001B[39;00m \u001B[38;5;167;01mKeyError\u001B[39;00m \u001B[38;5;28;01mas\u001B[39;00m err:\n",
      "File \u001B[1;32mindex.pyx:152\u001B[0m, in \u001B[0;36mpandas._libs.index.IndexEngine.get_loc\u001B[1;34m()\u001B[0m\n",
      "File \u001B[1;32mindex.pyx:181\u001B[0m, in \u001B[0;36mpandas._libs.index.IndexEngine.get_loc\u001B[1;34m()\u001B[0m\n",
      "File \u001B[1;32mpandas\\_libs\\hashtable_class_helper.pxi:7080\u001B[0m, in \u001B[0;36mpandas._libs.hashtable.PyObjectHashTable.get_item\u001B[1;34m()\u001B[0m\n",
      "File \u001B[1;32mpandas\\_libs\\hashtable_class_helper.pxi:7088\u001B[0m, in \u001B[0;36mpandas._libs.hashtable.PyObjectHashTable.get_item\u001B[1;34m()\u001B[0m\n",
      "\u001B[1;31mKeyError\u001B[0m: 'latitude'",
      "\nThe above exception was the direct cause of the following exception:\n",
      "\u001B[1;31mKeyError\u001B[0m                                  Traceback (most recent call last)",
      "Cell \u001B[1;32mIn[10], line 2\u001B[0m\n\u001B[0;32m      1\u001B[0m \u001B[38;5;66;03m# Calculate the distance to the nearest port (or the destination port)\u001B[39;00m\n\u001B[1;32m----> 2\u001B[0m vessel_data[\u001B[38;5;124m'\u001B[39m\u001B[38;5;124mdistance_to_port\u001B[39m\u001B[38;5;124m'\u001B[39m] \u001B[38;5;241m=\u001B[39m vessel_data\u001B[38;5;241m.\u001B[39mapply(\u001B[38;5;28;01mlambda\u001B[39;00m row: geodesic(\n\u001B[0;32m      3\u001B[0m     (row[\u001B[38;5;124m'\u001B[39m\u001B[38;5;124mlatitude\u001B[39m\u001B[38;5;124m'\u001B[39m], row[\u001B[38;5;124m'\u001B[39m\u001B[38;5;124mlongitude\u001B[39m\u001B[38;5;124m'\u001B[39m]), (row[\u001B[38;5;124m'\u001B[39m\u001B[38;5;124mlatitude_y\u001B[39m\u001B[38;5;124m'\u001B[39m], row[\u001B[38;5;124m'\u001B[39m\u001B[38;5;124mlongitude_y\u001B[39m\u001B[38;5;124m'\u001B[39m])\n\u001B[0;32m      4\u001B[0m )\u001B[38;5;241m.\u001B[39mkilometers \u001B[38;5;28;01mif\u001B[39;00m pd\u001B[38;5;241m.\u001B[39mnotnull(row[\u001B[38;5;124m'\u001B[39m\u001B[38;5;124mlatitude_y\u001B[39m\u001B[38;5;124m'\u001B[39m]) \u001B[38;5;28;01melse\u001B[39;00m np\u001B[38;5;241m.\u001B[39mnan, axis\u001B[38;5;241m=\u001B[39m\u001B[38;5;241m1\u001B[39m)\n\u001B[0;32m      6\u001B[0m \u001B[38;5;66;03m# Merge schedule data to include planned arrival information\u001B[39;00m\n\u001B[0;32m      7\u001B[0m vessel_data \u001B[38;5;241m=\u001B[39m pd\u001B[38;5;241m.\u001B[39mmerge(vessel_data, schedule_data[[\u001B[38;5;124m'\u001B[39m\u001B[38;5;124mvesselId\u001B[39m\u001B[38;5;124m'\u001B[39m, \u001B[38;5;124m'\u001B[39m\u001B[38;5;124marrivalDate\u001B[39m\u001B[38;5;124m'\u001B[39m]], on\u001B[38;5;241m=\u001B[39m\u001B[38;5;124m'\u001B[39m\u001B[38;5;124mvesselId\u001B[39m\u001B[38;5;124m'\u001B[39m, how\u001B[38;5;241m=\u001B[39m\u001B[38;5;124m'\u001B[39m\u001B[38;5;124mleft\u001B[39m\u001B[38;5;124m'\u001B[39m)\n",
      "File \u001B[1;32m~\\AppData\\Roaming\\Python\\Python311\\site-packages\\pandas\\core\\frame.py:10034\u001B[0m, in \u001B[0;36mDataFrame.apply\u001B[1;34m(self, func, axis, raw, result_type, args, by_row, **kwargs)\u001B[0m\n\u001B[0;32m  10022\u001B[0m \u001B[38;5;28;01mfrom\u001B[39;00m \u001B[38;5;21;01mpandas\u001B[39;00m\u001B[38;5;21;01m.\u001B[39;00m\u001B[38;5;21;01mcore\u001B[39;00m\u001B[38;5;21;01m.\u001B[39;00m\u001B[38;5;21;01mapply\u001B[39;00m \u001B[38;5;28;01mimport\u001B[39;00m frame_apply\n\u001B[0;32m  10024\u001B[0m op \u001B[38;5;241m=\u001B[39m frame_apply(\n\u001B[0;32m  10025\u001B[0m     \u001B[38;5;28mself\u001B[39m,\n\u001B[0;32m  10026\u001B[0m     func\u001B[38;5;241m=\u001B[39mfunc,\n\u001B[1;32m   (...)\u001B[0m\n\u001B[0;32m  10032\u001B[0m     kwargs\u001B[38;5;241m=\u001B[39mkwargs,\n\u001B[0;32m  10033\u001B[0m )\n\u001B[1;32m> 10034\u001B[0m \u001B[38;5;28;01mreturn\u001B[39;00m op\u001B[38;5;241m.\u001B[39mapply()\u001B[38;5;241m.\u001B[39m__finalize__(\u001B[38;5;28mself\u001B[39m, method\u001B[38;5;241m=\u001B[39m\u001B[38;5;124m\"\u001B[39m\u001B[38;5;124mapply\u001B[39m\u001B[38;5;124m\"\u001B[39m)\n",
      "File \u001B[1;32m~\\AppData\\Roaming\\Python\\Python311\\site-packages\\pandas\\core\\apply.py:837\u001B[0m, in \u001B[0;36mFrameApply.apply\u001B[1;34m(self)\u001B[0m\n\u001B[0;32m    834\u001B[0m \u001B[38;5;28;01melif\u001B[39;00m \u001B[38;5;28mself\u001B[39m\u001B[38;5;241m.\u001B[39mraw:\n\u001B[0;32m    835\u001B[0m     \u001B[38;5;28;01mreturn\u001B[39;00m \u001B[38;5;28mself\u001B[39m\u001B[38;5;241m.\u001B[39mapply_raw()\n\u001B[1;32m--> 837\u001B[0m \u001B[38;5;28;01mreturn\u001B[39;00m \u001B[38;5;28mself\u001B[39m\u001B[38;5;241m.\u001B[39mapply_standard()\n",
      "File \u001B[1;32m~\\AppData\\Roaming\\Python\\Python311\\site-packages\\pandas\\core\\apply.py:963\u001B[0m, in \u001B[0;36mFrameApply.apply_standard\u001B[1;34m(self)\u001B[0m\n\u001B[0;32m    962\u001B[0m \u001B[38;5;28;01mdef\u001B[39;00m \u001B[38;5;21mapply_standard\u001B[39m(\u001B[38;5;28mself\u001B[39m):\n\u001B[1;32m--> 963\u001B[0m     results, res_index \u001B[38;5;241m=\u001B[39m \u001B[38;5;28mself\u001B[39m\u001B[38;5;241m.\u001B[39mapply_series_generator()\n\u001B[0;32m    965\u001B[0m     \u001B[38;5;66;03m# wrap results\u001B[39;00m\n\u001B[0;32m    966\u001B[0m     \u001B[38;5;28;01mreturn\u001B[39;00m \u001B[38;5;28mself\u001B[39m\u001B[38;5;241m.\u001B[39mwrap_results(results, res_index)\n",
      "File \u001B[1;32m~\\AppData\\Roaming\\Python\\Python311\\site-packages\\pandas\\core\\apply.py:979\u001B[0m, in \u001B[0;36mFrameApply.apply_series_generator\u001B[1;34m(self)\u001B[0m\n\u001B[0;32m    976\u001B[0m \u001B[38;5;28;01mwith\u001B[39;00m option_context(\u001B[38;5;124m\"\u001B[39m\u001B[38;5;124mmode.chained_assignment\u001B[39m\u001B[38;5;124m\"\u001B[39m, \u001B[38;5;28;01mNone\u001B[39;00m):\n\u001B[0;32m    977\u001B[0m     \u001B[38;5;28;01mfor\u001B[39;00m i, v \u001B[38;5;129;01min\u001B[39;00m \u001B[38;5;28menumerate\u001B[39m(series_gen):\n\u001B[0;32m    978\u001B[0m         \u001B[38;5;66;03m# ignore SettingWithCopy here in case the user mutates\u001B[39;00m\n\u001B[1;32m--> 979\u001B[0m         results[i] \u001B[38;5;241m=\u001B[39m \u001B[38;5;28mself\u001B[39m\u001B[38;5;241m.\u001B[39mfunc(v, \u001B[38;5;241m*\u001B[39m\u001B[38;5;28mself\u001B[39m\u001B[38;5;241m.\u001B[39margs, \u001B[38;5;241m*\u001B[39m\u001B[38;5;241m*\u001B[39m\u001B[38;5;28mself\u001B[39m\u001B[38;5;241m.\u001B[39mkwargs)\n\u001B[0;32m    980\u001B[0m         \u001B[38;5;28;01mif\u001B[39;00m \u001B[38;5;28misinstance\u001B[39m(results[i], ABCSeries):\n\u001B[0;32m    981\u001B[0m             \u001B[38;5;66;03m# If we have a view on v, we need to make a copy because\u001B[39;00m\n\u001B[0;32m    982\u001B[0m             \u001B[38;5;66;03m#  series_generator will swap out the underlying data\u001B[39;00m\n\u001B[0;32m    983\u001B[0m             results[i] \u001B[38;5;241m=\u001B[39m results[i]\u001B[38;5;241m.\u001B[39mcopy(deep\u001B[38;5;241m=\u001B[39m\u001B[38;5;28;01mFalse\u001B[39;00m)\n",
      "Cell \u001B[1;32mIn[10], line 3\u001B[0m, in \u001B[0;36m<lambda>\u001B[1;34m(row)\u001B[0m\n\u001B[0;32m      1\u001B[0m \u001B[38;5;66;03m# Calculate the distance to the nearest port (or the destination port)\u001B[39;00m\n\u001B[0;32m      2\u001B[0m vessel_data[\u001B[38;5;124m'\u001B[39m\u001B[38;5;124mdistance_to_port\u001B[39m\u001B[38;5;124m'\u001B[39m] \u001B[38;5;241m=\u001B[39m vessel_data\u001B[38;5;241m.\u001B[39mapply(\u001B[38;5;28;01mlambda\u001B[39;00m row: geodesic(\n\u001B[1;32m----> 3\u001B[0m     (row[\u001B[38;5;124m'\u001B[39m\u001B[38;5;124mlatitude\u001B[39m\u001B[38;5;124m'\u001B[39m], row[\u001B[38;5;124m'\u001B[39m\u001B[38;5;124mlongitude\u001B[39m\u001B[38;5;124m'\u001B[39m]), (row[\u001B[38;5;124m'\u001B[39m\u001B[38;5;124mlatitude_y\u001B[39m\u001B[38;5;124m'\u001B[39m], row[\u001B[38;5;124m'\u001B[39m\u001B[38;5;124mlongitude_y\u001B[39m\u001B[38;5;124m'\u001B[39m])\n\u001B[0;32m      4\u001B[0m )\u001B[38;5;241m.\u001B[39mkilometers \u001B[38;5;28;01mif\u001B[39;00m pd\u001B[38;5;241m.\u001B[39mnotnull(row[\u001B[38;5;124m'\u001B[39m\u001B[38;5;124mlatitude_y\u001B[39m\u001B[38;5;124m'\u001B[39m]) \u001B[38;5;28;01melse\u001B[39;00m np\u001B[38;5;241m.\u001B[39mnan, axis\u001B[38;5;241m=\u001B[39m\u001B[38;5;241m1\u001B[39m)\n\u001B[0;32m      6\u001B[0m \u001B[38;5;66;03m# Merge schedule data to include planned arrival information\u001B[39;00m\n\u001B[0;32m      7\u001B[0m vessel_data \u001B[38;5;241m=\u001B[39m pd\u001B[38;5;241m.\u001B[39mmerge(vessel_data, schedule_data[[\u001B[38;5;124m'\u001B[39m\u001B[38;5;124mvesselId\u001B[39m\u001B[38;5;124m'\u001B[39m, \u001B[38;5;124m'\u001B[39m\u001B[38;5;124marrivalDate\u001B[39m\u001B[38;5;124m'\u001B[39m]], on\u001B[38;5;241m=\u001B[39m\u001B[38;5;124m'\u001B[39m\u001B[38;5;124mvesselId\u001B[39m\u001B[38;5;124m'\u001B[39m, how\u001B[38;5;241m=\u001B[39m\u001B[38;5;124m'\u001B[39m\u001B[38;5;124mleft\u001B[39m\u001B[38;5;124m'\u001B[39m)\n",
      "File \u001B[1;32m~\\AppData\\Roaming\\Python\\Python311\\site-packages\\pandas\\core\\series.py:1040\u001B[0m, in \u001B[0;36mSeries.__getitem__\u001B[1;34m(self, key)\u001B[0m\n\u001B[0;32m   1037\u001B[0m     \u001B[38;5;28;01mreturn\u001B[39;00m \u001B[38;5;28mself\u001B[39m\u001B[38;5;241m.\u001B[39m_values[key]\n\u001B[0;32m   1039\u001B[0m \u001B[38;5;28;01melif\u001B[39;00m key_is_scalar:\n\u001B[1;32m-> 1040\u001B[0m     \u001B[38;5;28;01mreturn\u001B[39;00m \u001B[38;5;28mself\u001B[39m\u001B[38;5;241m.\u001B[39m_get_value(key)\n\u001B[0;32m   1042\u001B[0m \u001B[38;5;66;03m# Convert generator to list before going through hashable part\u001B[39;00m\n\u001B[0;32m   1043\u001B[0m \u001B[38;5;66;03m# (We will iterate through the generator there to check for slices)\u001B[39;00m\n\u001B[0;32m   1044\u001B[0m \u001B[38;5;28;01mif\u001B[39;00m is_iterator(key):\n",
      "File \u001B[1;32m~\\AppData\\Roaming\\Python\\Python311\\site-packages\\pandas\\core\\series.py:1156\u001B[0m, in \u001B[0;36mSeries._get_value\u001B[1;34m(self, label, takeable)\u001B[0m\n\u001B[0;32m   1153\u001B[0m     \u001B[38;5;28;01mreturn\u001B[39;00m \u001B[38;5;28mself\u001B[39m\u001B[38;5;241m.\u001B[39m_values[label]\n\u001B[0;32m   1155\u001B[0m \u001B[38;5;66;03m# Similar to Index.get_value, but we do not fall back to positional\u001B[39;00m\n\u001B[1;32m-> 1156\u001B[0m loc \u001B[38;5;241m=\u001B[39m \u001B[38;5;28mself\u001B[39m\u001B[38;5;241m.\u001B[39mindex\u001B[38;5;241m.\u001B[39mget_loc(label)\n\u001B[0;32m   1158\u001B[0m \u001B[38;5;28;01mif\u001B[39;00m is_integer(loc):\n\u001B[0;32m   1159\u001B[0m     \u001B[38;5;28;01mreturn\u001B[39;00m \u001B[38;5;28mself\u001B[39m\u001B[38;5;241m.\u001B[39m_values[loc]\n",
      "File \u001B[1;32m~\\AppData\\Roaming\\Python\\Python311\\site-packages\\pandas\\core\\indexes\\base.py:3797\u001B[0m, in \u001B[0;36mIndex.get_loc\u001B[1;34m(self, key)\u001B[0m\n\u001B[0;32m   3792\u001B[0m     \u001B[38;5;28;01mif\u001B[39;00m \u001B[38;5;28misinstance\u001B[39m(casted_key, \u001B[38;5;28mslice\u001B[39m) \u001B[38;5;129;01mor\u001B[39;00m (\n\u001B[0;32m   3793\u001B[0m         \u001B[38;5;28misinstance\u001B[39m(casted_key, abc\u001B[38;5;241m.\u001B[39mIterable)\n\u001B[0;32m   3794\u001B[0m         \u001B[38;5;129;01mand\u001B[39;00m \u001B[38;5;28many\u001B[39m(\u001B[38;5;28misinstance\u001B[39m(x, \u001B[38;5;28mslice\u001B[39m) \u001B[38;5;28;01mfor\u001B[39;00m x \u001B[38;5;129;01min\u001B[39;00m casted_key)\n\u001B[0;32m   3795\u001B[0m     ):\n\u001B[0;32m   3796\u001B[0m         \u001B[38;5;28;01mraise\u001B[39;00m InvalidIndexError(key)\n\u001B[1;32m-> 3797\u001B[0m     \u001B[38;5;28;01mraise\u001B[39;00m \u001B[38;5;167;01mKeyError\u001B[39;00m(key) \u001B[38;5;28;01mfrom\u001B[39;00m \u001B[38;5;21;01merr\u001B[39;00m\n\u001B[0;32m   3798\u001B[0m \u001B[38;5;28;01mexcept\u001B[39;00m \u001B[38;5;167;01mTypeError\u001B[39;00m:\n\u001B[0;32m   3799\u001B[0m     \u001B[38;5;66;03m# If we have a listlike key, _check_indexing_error will raise\u001B[39;00m\n\u001B[0;32m   3800\u001B[0m     \u001B[38;5;66;03m#  InvalidIndexError. Otherwise we fall through and re-raise\u001B[39;00m\n\u001B[0;32m   3801\u001B[0m     \u001B[38;5;66;03m#  the TypeError.\u001B[39;00m\n\u001B[0;32m   3802\u001B[0m     \u001B[38;5;28mself\u001B[39m\u001B[38;5;241m.\u001B[39m_check_indexing_error(key)\n",
      "\u001B[1;31mKeyError\u001B[0m: 'latitude'"
     ]
    }
   ],
   "execution_count": 10
  }
 ],
 "metadata": {
  "kernelspec": {
   "display_name": "Python 3",
   "language": "python",
   "name": "python3"
  },
  "language_info": {
   "codemirror_mode": {
    "name": "ipython",
    "version": 2
   },
   "file_extension": ".py",
   "mimetype": "text/x-python",
   "name": "python",
   "nbconvert_exporter": "python",
   "pygments_lexer": "ipython2",
   "version": "2.7.6"
  }
 },
 "nbformat": 4,
 "nbformat_minor": 5
}
