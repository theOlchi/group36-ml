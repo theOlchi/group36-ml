{
 "cells": [
  {
   "metadata": {
    "ExecuteTime": {
     "end_time": "2024-10-22T09:03:35.878148Z",
     "start_time": "2024-10-22T09:01:42.708827Z"
    }
   },
   "cell_type": "code",
   "source": [
    "import pandas as pd\n",
    "import numpy as np\n",
    "from sklearn.model_selection import train_test_split\n",
    "from sklearn.preprocessing import StandardScaler\n",
    "from keras import Sequential\n",
    "from keras import layers\n",
    "from sklearn.metrics import mean_squared_error, r2_score\n",
    "from datetime import datetime\n",
    "\n",
    "# Load datasets\n",
    "vessel_data = pd.read_csv('../ais_train.csv', sep='|')\n",
    "\n",
    "# Convert 'time' column to datetime in vessel_data\n",
    "vessel_data['time'] = pd.to_datetime(vessel_data['time'])\n",
    "\n",
    "# Sort the data by vesselId and time\n",
    "vessel_data = vessel_data.sort_values(by=['vesselId', 'time'])\n",
    "\n",
    "# Create time-based features (hour, day_of_week, month)\n",
    "vessel_data['hour'] = vessel_data['time'].dt.hour\n",
    "vessel_data['day_of_week'] = vessel_data['time'].dt.dayofweek\n",
    "vessel_data['month'] = vessel_data['time'].dt.month\n",
    "\n",
    "# Select the features and target for training\n",
    "features = ['hour', 'day_of_week', 'month']\n",
    "target_latitude = 'latitude'\n",
    "target_longitude = 'longitude'\n",
    "\n",
    "# Normalize the data (standardization)\n",
    "scaler = StandardScaler()\n",
    "vessel_data[features] = scaler.fit_transform(vessel_data[features])\n",
    "\n",
    "# Function to create sequences for time-series\n",
    "def create_sequences(data, target, sequence_length=10):\n",
    "    sequences = []\n",
    "    labels = []\n",
    "    for i in range(len(data) - sequence_length):\n",
    "        seq = data.iloc[i:i+sequence_length].values\n",
    "        label = target.iloc[i+sequence_length]\n",
    "        sequences.append(seq)\n",
    "        labels.append(label)\n",
    "    return np.array(sequences), np.array(labels)\n",
    "\n",
    "# Create sequences for latitude prediction\n",
    "sequence_length = 10\n",
    "X_lat, y_lat = create_sequences(vessel_data[features], vessel_data[target_latitude], sequence_length)\n",
    "\n",
    "# Create sequences for longitude prediction\n",
    "X_lon, y_lon = create_sequences(vessel_data[features], vessel_data[target_longitude], sequence_length)\n",
    "\n",
    "# Split into training and test sets\n",
    "X_train_lat, X_test_lat, y_train_lat, y_test_lat = train_test_split(X_lat, y_lat, test_size=0.2, random_state=42)\n",
    "X_train_lon, X_test_lon, y_train_lon, y_test_lon = train_test_split(X_lon, y_lon, test_size=0.2, random_state=42)\n"
   ],
   "id": "41bd92718ae5562e",
   "outputs": [],
   "execution_count": 10
  },
  {
   "metadata": {
    "ExecuteTime": {
     "end_time": "2024-10-22T09:03:35.950391Z",
     "start_time": "2024-10-22T09:03:35.896147Z"
    }
   },
   "cell_type": "code",
   "source": [
    "from keras import Sequential\n",
    "from keras import layers\n",
    "\n",
    "# Define the LSTM model for latitude prediction\n",
    "model_latitude = Sequential()\n",
    "model_latitude.add(layers.Input(shape=(sequence_length, len(features))))  # Define input shape\n",
    "model_latitude.add(layers.LSTM(units=50, return_sequences=False))  # LSTM layer\n",
    "model_latitude.add(layers.Dense(1))  # Output layer to predict latitude\n",
    "\n",
    "model_latitude.compile(optimizer='adam', loss='mean_squared_error')\n",
    "\n",
    "# Define the LSTM model for longitude prediction\n",
    "model_longitude = Sequential()\n",
    "model_longitude.add(layers.Input(shape=(sequence_length, len(features))))  # Define input shape\n",
    "model_longitude.add(layers.LSTM(units=50, return_sequences=False))  # LSTM layer\n",
    "model_longitude.add(layers.Dense(1))  # Output layer to predict longitude\n",
    "\n",
    "model_longitude.compile(optimizer='adam', loss='mean_squared_error')"
   ],
   "id": "a89bdf8517690bcf",
   "outputs": [],
   "execution_count": 11
  },
  {
   "metadata": {
    "ExecuteTime": {
     "end_time": "2024-10-22T09:39:49.647623Z",
     "start_time": "2024-10-22T09:03:35.992290Z"
    }
   },
   "cell_type": "code",
   "source": [
    "# Step 4: Train the Models\n",
    "\n",
    "# Train the latitude model\n",
    "model_latitude.fit(X_train_lat, y_train_lat, epochs=10, batch_size=32, validation_data=(X_test_lat, y_test_lat))\n",
    "\n",
    "# Train the longitude model\n",
    "model_longitude.fit(X_train_lon, y_train_lon, epochs=10, batch_size=32, validation_data=(X_test_lon, y_test_lon))"
   ],
   "id": "3d0f654ae461ae4f",
   "outputs": [
    {
     "name": "stdout",
     "output_type": "stream",
     "text": [
      "Epoch 1/10\n",
      "\u001B[1m38052/38052\u001B[0m \u001B[32m━━━━━━━━━━━━━━━━━━━━\u001B[0m\u001B[37m\u001B[0m \u001B[1m90s\u001B[0m 2ms/step - loss: 553.7634 - val_loss: 524.8231\n",
      "Epoch 2/10\n",
      "\u001B[1m38052/38052\u001B[0m \u001B[32m━━━━━━━━━━━━━━━━━━━━\u001B[0m\u001B[37m\u001B[0m \u001B[1m93s\u001B[0m 2ms/step - loss: 520.1207 - val_loss: 515.1726\n",
      "Epoch 3/10\n",
      "\u001B[1m38052/38052\u001B[0m \u001B[32m━━━━━━━━━━━━━━━━━━━━\u001B[0m\u001B[37m\u001B[0m \u001B[1m94s\u001B[0m 2ms/step - loss: 512.2949 - val_loss: 509.1985\n",
      "Epoch 4/10\n",
      "\u001B[1m38052/38052\u001B[0m \u001B[32m━━━━━━━━━━━━━━━━━━━━\u001B[0m\u001B[37m\u001B[0m \u001B[1m94s\u001B[0m 2ms/step - loss: 509.5121 - val_loss: 508.1026\n",
      "Epoch 5/10\n",
      "\u001B[1m38052/38052\u001B[0m \u001B[32m━━━━━━━━━━━━━━━━━━━━\u001B[0m\u001B[37m\u001B[0m \u001B[1m93s\u001B[0m 2ms/step - loss: 508.2950 - val_loss: 506.5005\n",
      "Epoch 6/10\n",
      "\u001B[1m38052/38052\u001B[0m \u001B[32m━━━━━━━━━━━━━━━━━━━━\u001B[0m\u001B[37m\u001B[0m \u001B[1m85s\u001B[0m 2ms/step - loss: 504.5497 - val_loss: 505.6689\n",
      "Epoch 7/10\n",
      "\u001B[1m38052/38052\u001B[0m \u001B[32m━━━━━━━━━━━━━━━━━━━━\u001B[0m\u001B[37m\u001B[0m \u001B[1m77s\u001B[0m 2ms/step - loss: 504.4155 - val_loss: 505.7750\n",
      "Epoch 8/10\n",
      "\u001B[1m38052/38052\u001B[0m \u001B[32m━━━━━━━━━━━━━━━━━━━━\u001B[0m\u001B[37m\u001B[0m \u001B[1m106s\u001B[0m 3ms/step - loss: 504.9658 - val_loss: 505.2236\n",
      "Epoch 9/10\n",
      "\u001B[1m38052/38052\u001B[0m \u001B[32m━━━━━━━━━━━━━━━━━━━━\u001B[0m\u001B[37m\u001B[0m \u001B[1m117s\u001B[0m 3ms/step - loss: 503.2671 - val_loss: 504.4655\n",
      "Epoch 10/10\n",
      "\u001B[1m38052/38052\u001B[0m \u001B[32m━━━━━━━━━━━━━━━━━━━━\u001B[0m\u001B[37m\u001B[0m \u001B[1m123s\u001B[0m 3ms/step - loss: 504.5232 - val_loss: 504.7591\n",
      "Epoch 1/10\n",
      "\u001B[1m38052/38052\u001B[0m \u001B[32m━━━━━━━━━━━━━━━━━━━━\u001B[0m\u001B[37m\u001B[0m \u001B[1m113s\u001B[0m 3ms/step - loss: 4719.0352 - val_loss: 4711.3843\n",
      "Epoch 2/10\n",
      "\u001B[1m38052/38052\u001B[0m \u001B[32m━━━━━━━━━━━━━━━━━━━━\u001B[0m\u001B[37m\u001B[0m \u001B[1m111s\u001B[0m 3ms/step - loss: 4706.2808 - val_loss: 4685.5674\n",
      "Epoch 3/10\n",
      "\u001B[1m38052/38052\u001B[0m \u001B[32m━━━━━━━━━━━━━━━━━━━━\u001B[0m\u001B[37m\u001B[0m \u001B[1m110s\u001B[0m 3ms/step - loss: 4676.0581 - val_loss: 4688.0361\n",
      "Epoch 4/10\n",
      "\u001B[1m38052/38052\u001B[0m \u001B[32m━━━━━━━━━━━━━━━━━━━━\u001B[0m\u001B[37m\u001B[0m \u001B[1m123s\u001B[0m 3ms/step - loss: 4672.9790 - val_loss: 4672.9170\n",
      "Epoch 5/10\n",
      "\u001B[1m38052/38052\u001B[0m \u001B[32m━━━━━━━━━━━━━━━━━━━━\u001B[0m\u001B[37m\u001B[0m \u001B[1m127s\u001B[0m 3ms/step - loss: 4676.6401 - val_loss: 4667.9624\n",
      "Epoch 6/10\n",
      "\u001B[1m38052/38052\u001B[0m \u001B[32m━━━━━━━━━━━━━━━━━━━━\u001B[0m\u001B[37m\u001B[0m \u001B[1m118s\u001B[0m 3ms/step - loss: 4675.8481 - val_loss: 4664.5049\n",
      "Epoch 7/10\n",
      "\u001B[1m38052/38052\u001B[0m \u001B[32m━━━━━━━━━━━━━━━━━━━━\u001B[0m\u001B[37m\u001B[0m \u001B[1m126s\u001B[0m 3ms/step - loss: 4657.7524 - val_loss: 4664.5005\n",
      "Epoch 8/10\n",
      "\u001B[1m38052/38052\u001B[0m \u001B[32m━━━━━━━━━━━━━━━━━━━━\u001B[0m\u001B[37m\u001B[0m \u001B[1m126s\u001B[0m 3ms/step - loss: 4667.3599 - val_loss: 4661.9277\n",
      "Epoch 9/10\n",
      "\u001B[1m38052/38052\u001B[0m \u001B[32m━━━━━━━━━━━━━━━━━━━━\u001B[0m\u001B[37m\u001B[0m \u001B[1m124s\u001B[0m 3ms/step - loss: 4660.8696 - val_loss: 4661.0039\n",
      "Epoch 10/10\n",
      "\u001B[1m38052/38052\u001B[0m \u001B[32m━━━━━━━━━━━━━━━━━━━━\u001B[0m\u001B[37m\u001B[0m \u001B[1m123s\u001B[0m 3ms/step - loss: 4657.6313 - val_loss: 4658.6914\n"
     ]
    },
    {
     "data": {
      "text/plain": [
       "<keras.src.callbacks.history.History at 0x2235dcd8710>"
      ]
     },
     "execution_count": 12,
     "metadata": {},
     "output_type": "execute_result"
    }
   ],
   "execution_count": 12
  },
  {
   "metadata": {
    "ExecuteTime": {
     "end_time": "2024-10-22T09:40:24.978881Z",
     "start_time": "2024-10-22T09:39:49.783583Z"
    }
   },
   "cell_type": "code",
   "source": [
    "# Step 5: Make Predictions and Evaluate\n",
    "\n",
    "# Make predictions for latitude\n",
    "y_pred_latitude = model_latitude.predict(X_test_lat)\n",
    "\n",
    "# Make predictions for longitude\n",
    "y_pred_longitude = model_longitude.predict(X_test_lon)\n",
    "\n",
    "# Evaluate the models using Mean Squared Error and R-squared\n",
    "mse_latitude = mean_squared_error(y_test_lat, y_pred_latitude)\n",
    "r2_latitude = r2_score(y_test_lat, y_pred_latitude)\n",
    "\n",
    "mse_longitude = mean_squared_error(y_test_lon, y_pred_longitude)\n",
    "r2_longitude = r2_score(y_test_lon, y_pred_longitude)\n",
    "\n",
    "print(f'Mean Squared Error (Latitude): {mse_latitude}')\n",
    "print(f'R-squared (Latitude): {r2_latitude}')\n",
    "print(f'Mean Squared Error (Longitude): {mse_longitude}')\n",
    "print(f'R-squared (Longitude): {r2_longitude}')"
   ],
   "id": "655b74d95c4a923",
   "outputs": [
    {
     "name": "stdout",
     "output_type": "stream",
     "text": [
      "\u001B[1m9513/9513\u001B[0m \u001B[32m━━━━━━━━━━━━━━━━━━━━\u001B[0m\u001B[37m\u001B[0m \u001B[1m15s\u001B[0m 2ms/step\n",
      "\u001B[1m9513/9513\u001B[0m \u001B[32m━━━━━━━━━━━━━━━━━━━━\u001B[0m\u001B[37m\u001B[0m \u001B[1m14s\u001B[0m 1ms/step\n",
      "Mean Squared Error (Latitude): 504.75864998643164\n",
      "R-squared (Latitude): 0.038775136494696216\n",
      "Mean Squared Error (Longitude): 4658.697550768376\n",
      "R-squared (Longitude): 0.01301266271424506\n"
     ]
    }
   ],
   "execution_count": 13
  },
  {
   "metadata": {
    "ExecuteTime": {
     "end_time": "2024-10-22T09:50:05.435832Z",
     "start_time": "2024-10-22T09:49:58.220138Z"
    }
   },
   "cell_type": "code",
   "source": [
    "# Function to create sequences with padding for the initial missing rows\n",
    "def create_sequences_with_padding(data, sequence_length=10):\n",
    "    sequences = []\n",
    "    for i in range(len(data)):\n",
    "        # Start the sequence at 0 and pad the initial rows with zeros if needed\n",
    "        start_idx = max(0, i - sequence_length + 1)\n",
    "        seq = data.iloc[start_idx:i+1].values\n",
    "        # If the sequence is shorter than required, pad with zeros at the beginning\n",
    "        if len(seq) < sequence_length:\n",
    "            seq = np.pad(seq, ((sequence_length - len(seq), 0), (0, 0)), mode='constant')\n",
    "        sequences.append(seq)\n",
    "    return np.array(sequences)\n",
    "\n",
    "# Step 6: Predict Test Data and Create Submission File\n",
    "\n",
    "# Load and preprocess test data\n",
    "ais_test = pd.read_csv('../ais_test.csv', sep=',')\n",
    "ais_test['time'] = pd.to_datetime(ais_test['time'])\n",
    "ais_test['hour'] = ais_test['time'].dt.hour\n",
    "ais_test['day_of_week'] = ais_test['time'].dt.dayofweek\n",
    "ais_test['month'] = ais_test['time'].dt.month\n",
    "\n",
    "# Normalize the test data\n",
    "ais_test[features] = scaler.transform(ais_test[features])\n",
    "\n",
    "# Create sequences for test data with padding\n",
    "X_test_sequences = create_sequences_with_padding(ais_test[features], sequence_length)\n",
    "\n",
    "# Make predictions on the test set\n",
    "latitude_predictions = model_latitude.predict(X_test_sequences)\n",
    "longitude_predictions = model_longitude.predict(X_test_sequences)\n",
    "\n",
    "# Fix the length mismatch in the sample submission\n",
    "print(f\"Length of test set: {len(ais_test)}\")\n",
    "print(f\"Length of predictions: {len(latitude_predictions)}\")\n",
    "\n",
    "# Load the sample submission file\n",
    "sample_submission = pd.read_csv('../ais_sample_submission.csv')\n",
    "\n",
    "# Ensure the number of predictions matches the test set size\n",
    "assert len(latitude_predictions) == len(sample_submission), \"Prediction length does not match submission length\"\n",
    "assert len(longitude_predictions) == len(sample_submission), \"Prediction length does not match submission length\"\n",
    "\n",
    "# Fill in the predicted latitude and longitude\n",
    "sample_submission['latitude_predicted'] = latitude_predictions.flatten()\n",
    "sample_submission['longitude_predicted'] = longitude_predictions.flatten()\n",
    "\n",
    "# Save the submission file\n",
    "sample_submission.to_csv('submission_lstm3.csv', index=False)\n",
    "\n",
    "# Display the first few rows of the submission file to verify\n",
    "print(sample_submission.head())\n"
   ],
   "id": "d1675bb7834c04b",
   "outputs": [
    {
     "name": "stdout",
     "output_type": "stream",
     "text": [
      "\u001B[1m1617/1617\u001B[0m \u001B[32m━━━━━━━━━━━━━━━━━━━━\u001B[0m\u001B[37m\u001B[0m \u001B[1m2s\u001B[0m 1ms/step\n",
      "\u001B[1m1617/1617\u001B[0m \u001B[32m━━━━━━━━━━━━━━━━━━━━\u001B[0m\u001B[37m\u001B[0m \u001B[1m2s\u001B[0m 1ms/step\n",
      "Length of test set: 51739\n",
      "Length of predictions: 51739\n",
      "   ID  longitude_predicted  latitude_predicted\n",
      "0   0            27.633219           34.024612\n",
      "1   1            32.688614           21.310032\n",
      "2   2            29.410028           16.319891\n",
      "3   3            23.703220           15.083231\n",
      "4   4            18.782597           15.887377\n"
     ]
    }
   ],
   "execution_count": 15
  }
 ],
 "metadata": {
  "kernelspec": {
   "display_name": "Python 3",
   "language": "python",
   "name": "python3"
  },
  "language_info": {
   "codemirror_mode": {
    "name": "ipython",
    "version": 2
   },
   "file_extension": ".py",
   "mimetype": "text/x-python",
   "name": "python",
   "nbconvert_exporter": "python",
   "pygments_lexer": "ipython2",
   "version": "2.7.6"
  }
 },
 "nbformat": 4,
 "nbformat_minor": 5
}
